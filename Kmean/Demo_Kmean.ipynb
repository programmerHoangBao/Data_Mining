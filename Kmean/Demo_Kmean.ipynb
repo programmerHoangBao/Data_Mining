{
 "cells": [
  {
   "cell_type": "markdown",
   "id": "6babda1c-3587-4c1b-b85a-b4e2f00bd976",
   "metadata": {},
   "source": [
    "# Thành viên nhóm:\n",
    "## Nguyễn Hoàng Bảo       22110284\n",
    "## Trần Thị Kim Chung     22110288\n",
    "## Ngô Trung Hiếu         22110323"
   ]
  },
  {
   "cell_type": "markdown",
   "id": "d208e5f4-5962-47ca-b661-d3ee44c56e38",
   "metadata": {},
   "source": [
    "# Demo Tree K-Mean"
   ]
  },
  {
   "cell_type": "markdown",
   "id": "7d31bc01-c3c3-411a-b19d-b90b41a34416",
   "metadata": {},
   "source": [
    "## 1. Import thư viện"
   ]
  },
  {
   "cell_type": "code",
   "execution_count": 1,
   "id": "e5763220-340e-4c24-8c75-c1bf499904d8",
   "metadata": {},
   "outputs": [],
   "source": [
    "import numpy as np\n",
    "import pandas as pd\n",
    "import matplotlib.pyplot as plt\n",
    "import re"
   ]
  },
  {
   "cell_type": "markdown",
   "id": "fea26d87",
   "metadata": {},
   "source": [
    "## 2. Tải dữ liệu từ file CSV"
   ]
  },
  {
   "cell_type": "code",
   "execution_count": 2,
   "id": "19f7db66",
   "metadata": {},
   "outputs": [
    {
     "data": {
      "text/html": [
       "<div>\n",
       "<style scoped>\n",
       "    .dataframe tbody tr th:only-of-type {\n",
       "        vertical-align: middle;\n",
       "    }\n",
       "\n",
       "    .dataframe tbody tr th {\n",
       "        vertical-align: top;\n",
       "    }\n",
       "\n",
       "    .dataframe thead th {\n",
       "        text-align: right;\n",
       "    }\n",
       "</style>\n",
       "<table border=\"1\" class=\"dataframe\">\n",
       "  <thead>\n",
       "    <tr style=\"text-align: right;\">\n",
       "      <th></th>\n",
       "      <th>Name</th>\n",
       "      <th>Coordinates</th>\n",
       "    </tr>\n",
       "  </thead>\n",
       "  <tbody>\n",
       "    <tr>\n",
       "      <th>0</th>\n",
       "      <td>A</td>\n",
       "      <td>(2,5)</td>\n",
       "    </tr>\n",
       "    <tr>\n",
       "      <th>1</th>\n",
       "      <td>B</td>\n",
       "      <td>(0,5)</td>\n",
       "    </tr>\n",
       "    <tr>\n",
       "      <th>2</th>\n",
       "      <td>C</td>\n",
       "      <td>(2,2)</td>\n",
       "    </tr>\n",
       "    <tr>\n",
       "      <th>3</th>\n",
       "      <td>D</td>\n",
       "      <td>(2,4)</td>\n",
       "    </tr>\n",
       "    <tr>\n",
       "      <th>4</th>\n",
       "      <td>E</td>\n",
       "      <td>(5,3)</td>\n",
       "    </tr>\n",
       "  </tbody>\n",
       "</table>\n",
       "</div>"
      ],
      "text/plain": [
       "  Name Coordinates\n",
       "0    A       (2,5)\n",
       "1    B       (0,5)\n",
       "2    C       (2,2)\n",
       "3    D       (2,4)\n",
       "4    E       (5,3)"
      ]
     },
     "execution_count": 2,
     "metadata": {},
     "output_type": "execute_result"
    }
   ],
   "source": [
    "df = pd.read_csv(\"../data/k-mean.csv\")\n",
    "df.head()"
   ]
  },
  {
   "cell_type": "markdown",
   "id": "564ac2da",
   "metadata": {},
   "source": [
    "## 3. Các hàm cần thiết"
   ]
  },
  {
   "cell_type": "markdown",
   "id": "b2f6907c",
   "metadata": {},
   "source": [
    "### 3.1 Chuẩn hóa dữ liệu tọa độ từ dữ liệu Coordinates ban đầu"
   ]
  },
  {
   "cell_type": "markdown",
   "id": "30a947de",
   "metadata": {},
   "source": [
    "- Nhận đầu vào là chuỗi như: \"(2,3)\".\n",
    "- Trích xuất số x và y bằng biểu thức chính quy.\n",
    "- Trả về cặp tọa độ dạng (x, y) dưới dạng float."
   ]
  },
  {
   "cell_type": "code",
   "execution_count": 3,
   "id": "2fa76093",
   "metadata": {},
   "outputs": [],
   "source": [
    "def parse_coordinates(coord_str):\n",
    "    # Extract x, y from string like \"(x,y)\"\n",
    "    match = re.match(r'\\(([\\d.]+),([\\d.]+)\\)', coord_str)\n",
    "    if match:\n",
    "        return float(match.group(1)), float(match.group(2))\n",
    "    raise ValueError(f\"Invalid coordinate format: {coord_str}\")"
   ]
  },
  {
   "cell_type": "markdown",
   "id": "46770c81",
   "metadata": {},
   "source": [
    "### 3.2 Tính khoảng cách Euclid giữa hai điểm trong không gian 2 chiều."
   ]
  },
  {
   "cell_type": "code",
   "execution_count": 4,
   "id": "82325a7c",
   "metadata": {},
   "outputs": [],
   "source": [
    "def euclidean_distance(point1, point2):\n",
    "    return np.sqrt(np.sum((point1 - point2) ** 2))"
   ]
  },
  {
   "cell_type": "markdown",
   "id": "9bfed46a",
   "metadata": {},
   "source": [
    "### 3.3 Thực hiện thuật toán K-means:"
   ]
  },
  {
   "cell_type": "markdown",
   "id": "5662dc46",
   "metadata": {},
   "source": [
    "- Bắt đầu với centroids ban đầu (initial_centroids).\n",
    "- Gán điểm vào cụm gần nhất.\n",
    "- Tính lại centroid mới là trung bình các điểm trong cụm."
   ]
  },
  {
   "cell_type": "code",
   "execution_count": 5,
   "id": "79c19f71",
   "metadata": {},
   "outputs": [],
   "source": [
    "def kmeans(points, initial_centroids):\n",
    "    centroids = np.array(initial_centroids)\n",
    "    while True:\n",
    "        # Gán mỗi điểm vào cụm gần nhất\n",
    "        clusters = []\n",
    "        for point in points:\n",
    "            distances = [euclidean_distance(point, centroid) for centroid in centroids]\n",
    "            cluster_idx = np.argmin(distances)\n",
    "            clusters.append(cluster_idx)\n",
    "        \n",
    "        clusters = np.array(clusters)\n",
    "        new_centroids = np.zeros_like(centroids)\n",
    "        \n",
    "        # Cập nhật centroid\n",
    "        for i in range(len(centroids)):\n",
    "            cluster_points = points[clusters == i]\n",
    "            if len(cluster_points) > 0:\n",
    "                new_centroids[i] = np.mean(cluster_points, axis=0)\n",
    "            else:\n",
    "                new_centroids[i] = centroids[i]  # Giữ nguyên nếu cụm không có điểm nào\n",
    "        \n",
    "        # Kiểm tra hội tụ\n",
    "        if np.all(centroids == new_centroids):\n",
    "            break\n",
    "        centroids = new_centroids\n",
    "    \n",
    "    return clusters, centroids"
   ]
  },
  {
   "cell_type": "markdown",
   "id": "976f1292",
   "metadata": {},
   "source": [
    "### 3.4 Vẽ biểu đồ các cụm"
   ]
  },
  {
   "cell_type": "markdown",
   "id": "ac60203c",
   "metadata": {},
   "source": [
    "- Mỗi cụm bằng màu khác nhau.\n",
    "- Ghi tên mỗi điểm (dùng names).\n",
    "- Đánh dấu centroid bằng dấu 'x' màu đen."
   ]
  },
  {
   "cell_type": "code",
   "execution_count": null,
   "id": "b7fec5be",
   "metadata": {},
   "outputs": [],
   "source": [
    "def plot_clusters(points, clusters, centroids, names):\n",
    "    plt.figure(figsize=(10, 8))\n",
    "    colors = ['r', 'g', 'b']\n",
    "    \n",
    "    # Plot points\n",
    "    for i in range(len(points)):\n",
    "        cluster_idx = clusters[i]\n",
    "        plt.scatter(points[i, 0], points[i, 1], c=colors[cluster_idx], label=f'Cluster {cluster_idx+1}' if i == 0 else \"\")\n",
    "        plt.text(points[i, 0], points[i, 1], names[i], fontsize=8)\n",
    "    \n",
    "    # Plot centroids\n",
    "    for i, centroid in enumerate(centroids):\n",
    "        plt.scatter(centroid[0], centroid[1], c='black', marker='x', s=200, linewidths=3, label=f'Centroid {i+1}')\n",
    "    \n",
    "    plt.title('K-means Clustering Result')\n",
    "    plt.xlabel('X')\n",
    "    plt.ylabel('Y')\n",
    "    plt.legend()\n",
    "    plt.grid(True)\n",
    "    #plt.savefig('kmeans_result.png')"
   ]
  },
  {
   "cell_type": "markdown",
   "id": "0f5372b6",
   "metadata": {},
   "source": [
    "## 4. Thưc hiện chương trình"
   ]
  },
  {
   "cell_type": "markdown",
   "id": "fbbf67e6",
   "metadata": {},
   "source": [
    "- Tạo mảng lưu tên điểm và tọa độ điểm"
   ]
  },
  {
   "cell_type": "code",
   "execution_count": 7,
   "id": "334de009",
   "metadata": {},
   "outputs": [
    {
     "name": "stdout",
     "output_type": "stream",
     "text": [
      "['A' 'B' 'C' 'D' 'E' 'F' 'G' 'H' 'I' 'J']\n",
      "[[ 2.  5.]\n",
      " [ 0.  5.]\n",
      " [ 2.  2.]\n",
      " [ 2.  4.]\n",
      " [ 5.  3.]\n",
      " [ 1.  5.]\n",
      " [ 3. 11.]\n",
      " [ 3.  5.]\n",
      " [ 2. 12.]\n",
      " [ 2. 10.]]\n"
     ]
    }
   ],
   "source": [
    "names = []\n",
    "points = []\n",
    "\n",
    "for _, row in df.iterrows():\n",
    "    x, y = parse_coordinates(row['Coordinates'])\n",
    "    points.append([x, y])\n",
    "    names.append(row['Name'])\n",
    "\n",
    "names = np.array(names)\n",
    "points = np.array(points)\n",
    "\n",
    "print(names)\n",
    "print(points)"
   ]
  },
  {
   "cell_type": "markdown",
   "id": "d77991a8",
   "metadata": {},
   "source": [
    "- Tạo điểm centroids ban đầu"
   ]
  },
  {
   "cell_type": "code",
   "execution_count": 8,
   "id": "3959517a",
   "metadata": {},
   "outputs": [],
   "source": [
    "initial_centroids = [\n",
    "        [2.0, 5.0],\n",
    "        [0.0, 5.0]\n",
    "    ]"
   ]
  },
  {
   "cell_type": "markdown",
   "id": "f91184ba",
   "metadata": {},
   "source": [
    "- Thực hiện thuật toán K-Mean"
   ]
  },
  {
   "cell_type": "code",
   "execution_count": 9,
   "id": "8a1ba29d",
   "metadata": {},
   "outputs": [],
   "source": [
    "clusters, centroids = kmeans(points, initial_centroids)"
   ]
  },
  {
   "cell_type": "markdown",
   "id": "8bc6b755",
   "metadata": {},
   "source": [
    "- Trình diển kết quả"
   ]
  },
  {
   "cell_type": "code",
   "execution_count": 10,
   "id": "24124cb9",
   "metadata": {},
   "outputs": [
    {
     "data": {
      "image/png": "[encoded data removed]",
      "text/plain": [
       "<Figure size 1000x800 with 1 Axes>"
      ]
     },
     "metadata": {},
     "output_type": "display_data"
    }
   ],
   "source": [
    "plot_clusters(points, clusters, centroids, names)"
   ]
  }
 ],
 "metadata": {
  "kernelspec": {
   "display_name": "Python 3",
   "language": "python",
   "name": "python3"
  },
  "language_info": {
   "codemirror_mode": {
    "name": "ipython",
    "version": 3
   },
   "file_extension": ".py",
   "mimetype": "text/x-python",
   "name": "python",
   "nbconvert_exporter": "python",
   "pygments_lexer": "ipython3",
   "version": "3.13.3"
  }
 },
 "nbformat": 4,
 "nbformat_minor": 5
}
