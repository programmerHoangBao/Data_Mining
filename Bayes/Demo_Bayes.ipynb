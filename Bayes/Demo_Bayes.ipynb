{
 "cells": [
  {
   "cell_type": "markdown",
   "id": "21755a44-abdc-43cf-a695-7a8cfe20ff10",
   "metadata": {},
   "source": [
    "# Thành viên nhóm:\n",
    "## Nguyễn Hoàng Bảo       22110284\n",
    "## Trần Thị Kim Chung     22110288\n",
    "## Ngô Trung Hiếu         22110323"
   ]
  },
  {
   "cell_type": "markdown",
   "id": "b0f5f77d-3984-4662-94f0-67247d9d5590",
   "metadata": {},
   "source": [
    "# Demo Bayes"
   ]
  }
 ],
 "metadata": {
  "kernelspec": {
   "display_name": "Python 3 (ipykernel)",
   "language": "python",
   "name": "python3"
  },
  "language_info": {
   "codemirror_mode": {
    "name": "ipython",
    "version": 3
   },
   "file_extension": ".py",
   "mimetype": "text/x-python",
   "name": "python",
   "nbconvert_exporter": "python",
   "pygments_lexer": "ipython3",
   "version": "3.12.7"
  }
 },
 "nbformat": 4,
 "nbformat_minor": 5
}
