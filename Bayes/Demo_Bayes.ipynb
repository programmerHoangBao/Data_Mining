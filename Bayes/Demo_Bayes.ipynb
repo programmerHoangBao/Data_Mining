{
 "cells": [
  {
   "cell_type": "markdown",
   "id": "21755a44-abdc-43cf-a695-7a8cfe20ff10",
   "metadata": {},
   "source": [
    "# Thành viên nhóm:\n",
    "## Nguyễn Hoàng Bảo       22110284\n",
    "## Trần Thị Kim Chung     22110288\n",
    "## Ngô Trung Hiếu         22110323"
   ]
  },
  {
   "cell_type": "markdown",
   "id": "b0f5f77d-3984-4662-94f0-67247d9d5590",
   "metadata": {},
   "source": [
    "# Demo Bayes"
   ]
  },
  {
   "cell_type": "markdown",
   "id": "afbf9de6",
   "metadata": {},
   "source": [
    "## 1. Import thư viện"
   ]
  },
  {
   "cell_type": "code",
   "execution_count": 9,
   "id": "564d30e3",
   "metadata": {},
   "outputs": [],
   "source": [
    "import pandas as pd\n",
    "import numpy as np\n",
    "from collections import defaultdict"
   ]
  },
  {
   "cell_type": "markdown",
   "id": "702a2349",
   "metadata": {},
   "source": [
    "## 2. Tải dữ liệu từ file csv"
   ]
  },
  {
   "cell_type": "code",
   "execution_count": 16,
   "id": "fbbe98ee",
   "metadata": {},
   "outputs": [
    {
     "data": {
      "text/html": [
       "<div>\n",
       "<style scoped>\n",
       "    .dataframe tbody tr th:only-of-type {\n",
       "        vertical-align: middle;\n",
       "    }\n",
       "\n",
       "    .dataframe tbody tr th {\n",
       "        vertical-align: top;\n",
       "    }\n",
       "\n",
       "    .dataframe thead th {\n",
       "        text-align: right;\n",
       "    }\n",
       "</style>\n",
       "<table border=\"1\" class=\"dataframe\">\n",
       "  <thead>\n",
       "    <tr style=\"text-align: right;\">\n",
       "      <th></th>\n",
       "      <th>age</th>\n",
       "      <th>income</th>\n",
       "      <th>student</th>\n",
       "      <th>credit_rating</th>\n",
       "      <th>buys_computer</th>\n",
       "    </tr>\n",
       "  </thead>\n",
       "  <tbody>\n",
       "    <tr>\n",
       "      <th>0</th>\n",
       "      <td>&lt;=30</td>\n",
       "      <td>high</td>\n",
       "      <td>no</td>\n",
       "      <td>fair</td>\n",
       "      <td>no</td>\n",
       "    </tr>\n",
       "    <tr>\n",
       "      <th>1</th>\n",
       "      <td>&lt;=30</td>\n",
       "      <td>high</td>\n",
       "      <td>no</td>\n",
       "      <td>excelent</td>\n",
       "      <td>no</td>\n",
       "    </tr>\n",
       "    <tr>\n",
       "      <th>2</th>\n",
       "      <td>31…40</td>\n",
       "      <td>high</td>\n",
       "      <td>no</td>\n",
       "      <td>fair</td>\n",
       "      <td>yes</td>\n",
       "    </tr>\n",
       "    <tr>\n",
       "      <th>3</th>\n",
       "      <td>&gt;40</td>\n",
       "      <td>medium</td>\n",
       "      <td>no</td>\n",
       "      <td>fair</td>\n",
       "      <td>yes</td>\n",
       "    </tr>\n",
       "    <tr>\n",
       "      <th>4</th>\n",
       "      <td>&gt;40</td>\n",
       "      <td>low</td>\n",
       "      <td>yes</td>\n",
       "      <td>fair</td>\n",
       "      <td>yes</td>\n",
       "    </tr>\n",
       "  </tbody>\n",
       "</table>\n",
       "</div>"
      ],
      "text/plain": [
       "     age  income student credit_rating buys_computer\n",
       "0   <=30    high      no          fair            no\n",
       "1   <=30    high      no      excelent            no\n",
       "2  31…40    high      no          fair           yes\n",
       "3    >40  medium      no          fair           yes\n",
       "4    >40     low     yes          fair           yes"
      ]
     },
     "execution_count": 16,
     "metadata": {},
     "output_type": "execute_result"
    }
   ],
   "source": [
    "df_buy_computer = pd.read_csv(\"../data/Buys_Computer.csv\")\n",
    "df_buy_computer.head()"
   ]
  },
  {
   "cell_type": "markdown",
   "id": "ef08ba1a",
   "metadata": {},
   "source": [
    "## 3. Các hàm cần thiết"
   ]
  },
  {
   "cell_type": "markdown",
   "id": "73648f23",
   "metadata": {},
   "source": [
    "### 3.1 Hàm tính xác suất với Laplace Correction"
   ]
  },
  {
   "cell_type": "markdown",
   "id": "aa03a8a2",
   "metadata": {},
   "source": [
    "- Tham số đầu vào:\n",
    "    - df (pandas.DataFrame): Tập dữ liệu đầu vào dạng DataFrame, chứa các cột thuộc tính (features) và cột mục tiêu (target).\n",
    "    - target_col (str, mặc định='buys_computer'): Tên cột trong DataFrame đại diện cho lớp mục tiêu (ví dụ: buys_computer với giá trị 'yes' hoặc 'no').\n",
    "    - alpha (float, mặc định=1): Hệ số Laplace Correction, được thêm vào để tránh xác suất bằng 0. Giá trị mặc định là 1 (Laplace smoothing)."
   ]
  },
  {
   "cell_type": "markdown",
   "id": "fc645eed",
   "metadata": {},
   "source": [
    "- Hàm trả về một tuple gồm 3 phần tử:\n",
    "    - prior_probs (dict): Từ điển lưu trữ xác suất tiên nghiệm của từng lớp mục tiêu (P(buys_computer)).\n",
    "    - conditional_probs (defaultdict): Từ điển lồng nhau lưu trữ xác suất điều kiện P(feature_value | buys_computer) cho từng giá trị của từng thuộc tính, ứng với từng lớp.\n",
    "    - classes (numpy.ndarray): Mảng chứa các giá trị duy nhất của lớp mục tiêu (ví dụ: ['yes', 'no'])."
   ]
  },
  {
   "cell_type": "code",
   "execution_count": 11,
   "id": "dd0bb228",
   "metadata": {},
   "outputs": [],
   "source": [
    "def calculate_probabilities(df, target_col='buys_computer', alpha=1):\n",
    "    # Lớp mục tiêu\n",
    "    classes = df[target_col].unique()\n",
    "    class_counts = df[target_col].value_counts()\n",
    "    total_samples = len(df)\n",
    "    \n",
    "    # Lưu trữ xác suất\n",
    "    prior_probs = {}\n",
    "    conditional_probs = defaultdict(lambda: defaultdict(dict))\n",
    "    \n",
    "    # Tính xác suất tiên nghiệm P(buys_computer)\n",
    "    for c in classes:\n",
    "        prior_probs[c] = (class_counts[c] + alpha) / (total_samples + len(classes) * alpha)\n",
    "    \n",
    "    # Tính xác suất điều kiện P(feature|buys_computer)\n",
    "    features = [col for col in df.columns if col != target_col]\n",
    "    for feature in features:\n",
    "        feature_values = df[feature].unique()\n",
    "        for c in classes:\n",
    "            class_df = df[df[target_col] == c]\n",
    "            for val in feature_values:\n",
    "                count = len(class_df[class_df[feature] == val])\n",
    "                # Laplace Correction: (count + alpha) / (total + alpha * number of values)\n",
    "                conditional_probs[feature][val][c] = (count + alpha) / (len(class_df) + len(feature_values) * alpha)\n",
    "    \n",
    "    return prior_probs, conditional_probs, classes"
   ]
  },
  {
   "cell_type": "markdown",
   "id": "910f2c24",
   "metadata": {},
   "source": [
    "## 3. Hàm dự đoán"
   ]
  },
  {
   "cell_type": "markdown",
   "id": "beec4385",
   "metadata": {},
   "source": [
    "- Tham số đầu vào:\n",
    "    - instance (dict): Một từ điển chứa các cặp key-value, trong đó key là tên thuộc tính (feature) và value là giá trị của thuộc tính cho mẫu dữ liệu mới. Ví dụ: {'age': '<=30', 'income': 'medium', 'student': 'yes', 'credit_rating': 'excellent'}.\n",
    "    - prior_probs (dict): Từ điển chứa xác suất tiên nghiệm của từng lớp, ví dụ: {'yes': 0.4, 'no': 0.6}.\n",
    "    - conditional_probs (defaultdict): Từ điển lồng nhau chứa xác suất điều kiện P(feature_value | class) cho từng giá trị của từng thuộc tính, ứng với từng lớp. Cấu trúc: conditional_probs[feature][value][class].\n",
    "    - classes (numpy.ndarray hoặc list): Danh sách các giá trị duy nhất của lớp mục tiêu, ví dụ: ['yes', 'no'].\n",
    "    - features (list): Danh sách các thuộc tính (features) được sử dụng trong mô hình, ví dụ: ['age', 'income', 'student', 'credit_rating']."
   ]
  },
  {
   "cell_type": "code",
   "execution_count": 12,
   "id": "a35f09ed",
   "metadata": {},
   "outputs": [],
   "source": [
    "def predict(instance, prior_probs, conditional_probs, classes, features):\n",
    "    max_prob = -1\n",
    "    predicted_class = None\n",
    "    \n",
    "    for c in classes:\n",
    "        prob = prior_probs[c]\n",
    "        for feature, value in instance.items():\n",
    "            prob *= conditional_probs[feature][value][c]\n",
    "        \n",
    "        if prob > max_prob:\n",
    "            max_prob = prob\n",
    "            predicted_class = c\n",
    "    \n",
    "    return predicted_class\n"
   ]
  },
  {
   "cell_type": "markdown",
   "id": "533d5b93",
   "metadata": {},
   "source": [
    "## 4. Thực thi chương trình dự đoán"
   ]
  },
  {
   "cell_type": "markdown",
   "id": "085c0af4",
   "metadata": {},
   "source": [
    "- Tính xác xuất"
   ]
  },
  {
   "cell_type": "code",
   "execution_count": 13,
   "id": "8891f503",
   "metadata": {},
   "outputs": [
    {
     "name": "stdout",
     "output_type": "stream",
     "text": [
      "Xác suất mua máy tính (buy_computer): {'no': np.float64(0.375), 'yes': np.float64(0.625)}\n",
      "\n",
      "Xác suất điều kiện cho thuộc tính 'age':\n",
      "  Giá trị '<=30':\n",
      "    P(<=30 | no) = 0.4444\n",
      "    P(<=30 | yes) = 0.2308\n",
      "  Giá trị '31…40':\n",
      "    P(31…40 | no) = 0.1111\n",
      "    P(31…40 | yes) = 0.3077\n",
      "  Giá trị '>40':\n",
      "    P(>40 | no) = 0.3333\n",
      "    P(>40 | yes) = 0.3077\n",
      "  Giá trị '31...40':\n",
      "    P(31...40 | no) = 0.1111\n",
      "    P(31...40 | yes) = 0.1538\n",
      "\n",
      "Xác suất điều kiện cho thuộc tính 'income':\n",
      "  Giá trị 'high':\n",
      "    P(high | no) = 0.3750\n",
      "    P(high | yes) = 0.2500\n",
      "  Giá trị 'medium':\n",
      "    P(medium | no) = 0.3750\n",
      "    P(medium | yes) = 0.4167\n",
      "  Giá trị 'low':\n",
      "    P(low | no) = 0.2500\n",
      "    P(low | yes) = 0.3333\n",
      "\n",
      "Xác suất điều kiện cho thuộc tính 'student':\n",
      "  Giá trị 'no':\n",
      "    P(no | no) = 0.7143\n",
      "    P(no | yes) = 0.3636\n",
      "  Giá trị 'yes':\n",
      "    P(yes | no) = 0.2857\n",
      "    P(yes | yes) = 0.6364\n",
      "\n",
      "Xác suất điều kiện cho thuộc tính 'credit_rating':\n",
      "  Giá trị 'fair':\n",
      "    P(fair | no) = 0.3750\n",
      "    P(fair | yes) = 0.5833\n",
      "  Giá trị 'excelent':\n",
      "    P(excelent | no) = 0.2500\n",
      "    P(excelent | yes) = 0.0833\n",
      "  Giá trị 'excellent':\n",
      "    P(excellent | no) = 0.3750\n",
      "    P(excellent | yes) = 0.3333\n",
      "Tên classes: ['no' 'yes']\n"
     ]
    }
   ],
   "source": [
    "prior_probs, conditional_probs, classes = calculate_probabilities(df_buy_computer)\n",
    "\n",
    "print(f\"Xác suất mua máy tính (buy_computer): {prior_probs}\")\n",
    "\n",
    "# Chuyển defaultdict thành dict\n",
    "conditional_probs_dict = dict(conditional_probs)\n",
    "\n",
    "# In từng thuộc tính\n",
    "for feature in conditional_probs_dict:\n",
    "    print(f\"\\nXác suất điều kiện cho thuộc tính '{feature}':\")\n",
    "    for value in conditional_probs_dict[feature]:\n",
    "        print(f\"  Giá trị '{value}':\")\n",
    "        for cls in classes:\n",
    "            print(f\"    P({value} | {cls}) = {conditional_probs_dict[feature][value][cls]:.4f}\")\n",
    "            \n",
    "print(f\"Tên classes: {classes}\")"
   ]
  },
  {
   "cell_type": "markdown",
   "id": "4182a513",
   "metadata": {},
   "source": [
    "- Dữ liệu cần dự đoán"
   ]
  },
  {
   "cell_type": "code",
   "execution_count": null,
   "id": "cf6c0b77",
   "metadata": {},
   "outputs": [
    {
     "data": {
      "text/plain": [
       "{'age': '<=30',\n",
       " 'in come': 'medium',\n",
       " 'student': 'yes',\n",
       " 'credit_rating': 'excellent'}"
      ]
     },
     "execution_count": 14,
     "metadata": {},
     "output_type": "execute_result"
    }
   ],
   "source": [
    "new_instance = {\n",
    "    'age': '<=30',\n",
    "    'in come': 'medium',\n",
    "    'student': 'yes',\n",
    "    'credit_rating': 'excellent'\n",
    "}\n",
    "new_instance"
   ]
  },
  {
   "cell_type": "markdown",
   "id": "be01cad1",
   "metadata": {},
   "source": [
    "- Dự đoán"
   ]
  },
  {
   "cell_type": "code",
   "execution_count": 15,
   "id": "47e65c17",
   "metadata": {},
   "outputs": [
    {
     "ename": "KeyError",
     "evalue": "'no'",
     "output_type": "error",
     "traceback": [
      "\u001b[31m---------------------------------------------------------------------------\u001b[39m",
      "\u001b[31mKeyError\u001b[39m                                  Traceback (most recent call last)",
      "\u001b[36mCell\u001b[39m\u001b[36m \u001b[39m\u001b[32mIn[15]\u001b[39m\u001b[32m, line 2\u001b[39m\n\u001b[32m      1\u001b[39m features = [\u001b[33m'\u001b[39m\u001b[33mage\u001b[39m\u001b[33m'\u001b[39m, \u001b[33m'\u001b[39m\u001b[33mincome\u001b[39m\u001b[33m'\u001b[39m, \u001b[33m'\u001b[39m\u001b[33mstudent\u001b[39m\u001b[33m'\u001b[39m, \u001b[33m'\u001b[39m\u001b[33mcredit_rating\u001b[39m\u001b[33m'\u001b[39m]\n\u001b[32m----> \u001b[39m\u001b[32m2\u001b[39m prediction = \u001b[43mpredict\u001b[49m\u001b[43m(\u001b[49m\u001b[43mnew_instance\u001b[49m\u001b[43m,\u001b[49m\u001b[43m \u001b[49m\u001b[43mprior_probs\u001b[49m\u001b[43m,\u001b[49m\u001b[43m \u001b[49m\u001b[43mconditional_probs\u001b[49m\u001b[43m,\u001b[49m\u001b[43m \u001b[49m\u001b[43mclasses\u001b[49m\u001b[43m,\u001b[49m\u001b[43m \u001b[49m\u001b[43mfeatures\u001b[49m\u001b[43m)\u001b[49m\n",
      "\u001b[36mCell\u001b[39m\u001b[36m \u001b[39m\u001b[32mIn[12]\u001b[39m\u001b[32m, line 8\u001b[39m, in \u001b[36mpredict\u001b[39m\u001b[34m(instance, prior_probs, conditional_probs, classes, features)\u001b[39m\n\u001b[32m      6\u001b[39m prob = prior_probs[c]\n\u001b[32m      7\u001b[39m \u001b[38;5;28;01mfor\u001b[39;00m feature, value \u001b[38;5;129;01min\u001b[39;00m instance.items():\n\u001b[32m----> \u001b[39m\u001b[32m8\u001b[39m     prob *= \u001b[43mconditional_probs\u001b[49m\u001b[43m[\u001b[49m\u001b[43mfeature\u001b[49m\u001b[43m]\u001b[49m\u001b[43m[\u001b[49m\u001b[43mvalue\u001b[49m\u001b[43m]\u001b[49m\u001b[43m[\u001b[49m\u001b[43mc\u001b[49m\u001b[43m]\u001b[49m\n\u001b[32m     10\u001b[39m \u001b[38;5;28;01mif\u001b[39;00m prob > max_prob:\n\u001b[32m     11\u001b[39m     max_prob = prob\n",
      "\u001b[31mKeyError\u001b[39m: 'no'"
     ]
    }
   ],
   "source": [
    "features = ['age', 'income', 'student', 'credit_rating']\n",
    "prediction = predict(new_instance, prior_probs, conditional_probs, classes, features)"
   ]
  },
  {
   "cell_type": "markdown",
   "id": "7c9e4090",
   "metadata": {},
   "source": [
    "- In kết quả"
   ]
  },
  {
   "cell_type": "code",
   "execution_count": null,
   "id": "3d353874",
   "metadata": {},
   "outputs": [
    {
     "name": "stdout",
     "output_type": "stream",
     "text": [
      "Dữ liệu dự đoán: {'age': '<=30', 'in come': 'medium', 'student': 'yes', 'credit_rating': 'excellent'}\n",
      "Kết quả dự đoán buys_computer: yes\n"
     ]
    }
   ],
   "source": [
    "print(f\"Dữ liệu dự đoán: {new_instance}\")\n",
    "print(f\"Kết quả dự đoán buys_computer: {prediction}\")"
   ]
  }
 ],
 "metadata": {
  "kernelspec": {
   "display_name": "Python 3",
   "language": "python",
   "name": "python3"
  },
  "language_info": {
   "codemirror_mode": {
    "name": "ipython",
    "version": 3
   },
   "file_extension": ".py",
   "mimetype": "text/x-python",
   "name": "python",
   "nbconvert_exporter": "python",
   "pygments_lexer": "ipython3",
   "version": "3.13.3"
  }
 },
 "nbformat": 4,
 "nbformat_minor": 5
}
