{
 "cells": [
  {
   "cell_type": "markdown",
   "id": "232e9b6d-48d2-4d9f-840d-97fd66056fd7",
   "metadata": {},
   "source": [
    "# Thành viên nhóm:\n",
    "## Nguyễn Hoàng Bảo       22110284\n",
    "## Trần Thị Kim Chung     22110288\n",
    "## Ngô Trung Hiếu         22110323"
   ]
  },
  {
   "cell_type": "markdown",
   "id": "86f904ff-ea27-4bec-a463-18442750b667",
   "metadata": {},
   "source": [
    "# Demo Tree Detection\n"
   ]
  }
 ],
 "metadata": {
  "kernelspec": {
   "display_name": "Python 3 (ipykernel)",
   "language": "python",
   "name": "python3"
  },
  "language_info": {
   "codemirror_mode": {
    "name": "ipython",
    "version": 3
   },
   "file_extension": ".py",
   "mimetype": "text/x-python",
   "name": "python",
   "nbconvert_exporter": "python",
   "pygments_lexer": "ipython3",
   "version": "3.12.7"
  }
 },
 "nbformat": 4,
 "nbformat_minor": 5
}
